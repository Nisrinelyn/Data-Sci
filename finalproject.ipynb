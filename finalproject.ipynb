{
  "nbformat": 4,
  "nbformat_minor": 0,
  "metadata": {
    "colab": {
      "provenance": [],
      "include_colab_link": true
    },
    "kernelspec": {
      "name": "python3",
      "display_name": "Python 3"
    },
    "language_info": {
      "name": "python"
    }
  },
  "cells": [
    {
      "cell_type": "markdown",
      "metadata": {
        "id": "view-in-github",
        "colab_type": "text"
      },
      "source": [
        "<a href=\"https://colab.research.google.com/github/Nisrinelyn/Data-Sci/blob/main/finalproject.ipynb\" target=\"_parent\"><img src=\"https://colab.research.google.com/assets/colab-badge.svg\" alt=\"Open In Colab\"/></a>"
      ]
    },
    {
      "cell_type": "code",
      "execution_count": null,
      "metadata": {
        "id": "qkrKvaFAuUR5"
      },
      "outputs": [],
      "source": [
        "import pandas as pd\n",
        "import numpy as np\n",
        "import seaborn as sns\n",
        "import matplotlib.pyplot as plt\n",
        "from sklearn.preprocessing import StandardScaler\n",
        "from sklearn.model_selection import train_test_split"
      ]
    },
    {
      "cell_type": "code",
      "source": [
        "data = pd.read_csv('heart_failure_clinical_records_dataset.csv')\n",
        "data.describe()"
      ],
      "metadata": {
        "colab": {
          "base_uri": "https://localhost:8080/",
          "height": 206
        },
        "id": "a4K9hCcnvkUR",
        "outputId": "b8722cb0-7437-4d46-e8c6-af0958d3031b"
      },
      "execution_count": null,
      "outputs": [
        {
          "output_type": "execute_result",
          "data": {
            "text/plain": [
              "    age  anaemia  creatinine_phosphokinase  diabetes  ejection_fraction  \\\n",
              "0  75.0        0                       582         0                 20   \n",
              "1  55.0        0                      7861         0                 38   \n",
              "2  65.0        0                       146         0                 20   \n",
              "3  50.0        1                       111         0                 20   \n",
              "4  65.0        1                       160         1                 20   \n",
              "\n",
              "   high_blood_pressure  platelets  serum_creatinine  serum_sodium  sex  \\\n",
              "0                    1  265000.00               1.9           130    1   \n",
              "1                    0  263358.03               1.1           136    1   \n",
              "2                    0  162000.00               1.3           129    1   \n",
              "3                    0  210000.00               1.9           137    1   \n",
              "4                    0  327000.00               2.7           116    0   \n",
              "\n",
              "   smoking  time  DEATH_EVENT  \n",
              "0        0     4            1  \n",
              "1        0     6            1  \n",
              "2        1     7            1  \n",
              "3        0     7            1  \n",
              "4        0     8            1  "
            ],
            "text/html": [
              "\n",
              "  <div id=\"df-e916d29e-5bee-4519-931f-e3ee75bce04d\">\n",
              "    <div class=\"colab-df-container\">\n",
              "      <div>\n",
              "<style scoped>\n",
              "    .dataframe tbody tr th:only-of-type {\n",
              "        vertical-align: middle;\n",
              "    }\n",
              "\n",
              "    .dataframe tbody tr th {\n",
              "        vertical-align: top;\n",
              "    }\n",
              "\n",
              "    .dataframe thead th {\n",
              "        text-align: right;\n",
              "    }\n",
              "</style>\n",
              "<table border=\"1\" class=\"dataframe\">\n",
              "  <thead>\n",
              "    <tr style=\"text-align: right;\">\n",
              "      <th></th>\n",
              "      <th>age</th>\n",
              "      <th>anaemia</th>\n",
              "      <th>creatinine_phosphokinase</th>\n",
              "      <th>diabetes</th>\n",
              "      <th>ejection_fraction</th>\n",
              "      <th>high_blood_pressure</th>\n",
              "      <th>platelets</th>\n",
              "      <th>serum_creatinine</th>\n",
              "      <th>serum_sodium</th>\n",
              "      <th>sex</th>\n",
              "      <th>smoking</th>\n",
              "      <th>time</th>\n",
              "      <th>DEATH_EVENT</th>\n",
              "    </tr>\n",
              "  </thead>\n",
              "  <tbody>\n",
              "    <tr>\n",
              "      <th>0</th>\n",
              "      <td>75.0</td>\n",
              "      <td>0</td>\n",
              "      <td>582</td>\n",
              "      <td>0</td>\n",
              "      <td>20</td>\n",
              "      <td>1</td>\n",
              "      <td>265000.00</td>\n",
              "      <td>1.9</td>\n",
              "      <td>130</td>\n",
              "      <td>1</td>\n",
              "      <td>0</td>\n",
              "      <td>4</td>\n",
              "      <td>1</td>\n",
              "    </tr>\n",
              "    <tr>\n",
              "      <th>1</th>\n",
              "      <td>55.0</td>\n",
              "      <td>0</td>\n",
              "      <td>7861</td>\n",
              "      <td>0</td>\n",
              "      <td>38</td>\n",
              "      <td>0</td>\n",
              "      <td>263358.03</td>\n",
              "      <td>1.1</td>\n",
              "      <td>136</td>\n",
              "      <td>1</td>\n",
              "      <td>0</td>\n",
              "      <td>6</td>\n",
              "      <td>1</td>\n",
              "    </tr>\n",
              "    <tr>\n",
              "      <th>2</th>\n",
              "      <td>65.0</td>\n",
              "      <td>0</td>\n",
              "      <td>146</td>\n",
              "      <td>0</td>\n",
              "      <td>20</td>\n",
              "      <td>0</td>\n",
              "      <td>162000.00</td>\n",
              "      <td>1.3</td>\n",
              "      <td>129</td>\n",
              "      <td>1</td>\n",
              "      <td>1</td>\n",
              "      <td>7</td>\n",
              "      <td>1</td>\n",
              "    </tr>\n",
              "    <tr>\n",
              "      <th>3</th>\n",
              "      <td>50.0</td>\n",
              "      <td>1</td>\n",
              "      <td>111</td>\n",
              "      <td>0</td>\n",
              "      <td>20</td>\n",
              "      <td>0</td>\n",
              "      <td>210000.00</td>\n",
              "      <td>1.9</td>\n",
              "      <td>137</td>\n",
              "      <td>1</td>\n",
              "      <td>0</td>\n",
              "      <td>7</td>\n",
              "      <td>1</td>\n",
              "    </tr>\n",
              "    <tr>\n",
              "      <th>4</th>\n",
              "      <td>65.0</td>\n",
              "      <td>1</td>\n",
              "      <td>160</td>\n",
              "      <td>1</td>\n",
              "      <td>20</td>\n",
              "      <td>0</td>\n",
              "      <td>327000.00</td>\n",
              "      <td>2.7</td>\n",
              "      <td>116</td>\n",
              "      <td>0</td>\n",
              "      <td>0</td>\n",
              "      <td>8</td>\n",
              "      <td>1</td>\n",
              "    </tr>\n",
              "  </tbody>\n",
              "</table>\n",
              "</div>\n",
              "      <button class=\"colab-df-convert\" onclick=\"convertToInteractive('df-e916d29e-5bee-4519-931f-e3ee75bce04d')\"\n",
              "              title=\"Convert this dataframe to an interactive table.\"\n",
              "              style=\"display:none;\">\n",
              "        \n",
              "  <svg xmlns=\"http://www.w3.org/2000/svg\" height=\"24px\"viewBox=\"0 0 24 24\"\n",
              "       width=\"24px\">\n",
              "    <path d=\"M0 0h24v24H0V0z\" fill=\"none\"/>\n",
              "    <path d=\"M18.56 5.44l.94 2.06.94-2.06 2.06-.94-2.06-.94-.94-2.06-.94 2.06-2.06.94zm-11 1L8.5 8.5l.94-2.06 2.06-.94-2.06-.94L8.5 2.5l-.94 2.06-2.06.94zm10 10l.94 2.06.94-2.06 2.06-.94-2.06-.94-.94-2.06-.94 2.06-2.06.94z\"/><path d=\"M17.41 7.96l-1.37-1.37c-.4-.4-.92-.59-1.43-.59-.52 0-1.04.2-1.43.59L10.3 9.45l-7.72 7.72c-.78.78-.78 2.05 0 2.83L4 21.41c.39.39.9.59 1.41.59.51 0 1.02-.2 1.41-.59l7.78-7.78 2.81-2.81c.8-.78.8-2.07 0-2.86zM5.41 20L4 18.59l7.72-7.72 1.47 1.35L5.41 20z\"/>\n",
              "  </svg>\n",
              "      </button>\n",
              "      \n",
              "  <style>\n",
              "    .colab-df-container {\n",
              "      display:flex;\n",
              "      flex-wrap:wrap;\n",
              "      gap: 12px;\n",
              "    }\n",
              "\n",
              "    .colab-df-convert {\n",
              "      background-color: #E8F0FE;\n",
              "      border: none;\n",
              "      border-radius: 50%;\n",
              "      cursor: pointer;\n",
              "      display: none;\n",
              "      fill: #1967D2;\n",
              "      height: 32px;\n",
              "      padding: 0 0 0 0;\n",
              "      width: 32px;\n",
              "    }\n",
              "\n",
              "    .colab-df-convert:hover {\n",
              "      background-color: #E2EBFA;\n",
              "      box-shadow: 0px 1px 2px rgba(60, 64, 67, 0.3), 0px 1px 3px 1px rgba(60, 64, 67, 0.15);\n",
              "      fill: #174EA6;\n",
              "    }\n",
              "\n",
              "    [theme=dark] .colab-df-convert {\n",
              "      background-color: #3B4455;\n",
              "      fill: #D2E3FC;\n",
              "    }\n",
              "\n",
              "    [theme=dark] .colab-df-convert:hover {\n",
              "      background-color: #434B5C;\n",
              "      box-shadow: 0px 1px 3px 1px rgba(0, 0, 0, 0.15);\n",
              "      filter: drop-shadow(0px 1px 2px rgba(0, 0, 0, 0.3));\n",
              "      fill: #FFFFFF;\n",
              "    }\n",
              "  </style>\n",
              "\n",
              "      <script>\n",
              "        const buttonEl =\n",
              "          document.querySelector('#df-e916d29e-5bee-4519-931f-e3ee75bce04d button.colab-df-convert');\n",
              "        buttonEl.style.display =\n",
              "          google.colab.kernel.accessAllowed ? 'block' : 'none';\n",
              "\n",
              "        async function convertToInteractive(key) {\n",
              "          const element = document.querySelector('#df-e916d29e-5bee-4519-931f-e3ee75bce04d');\n",
              "          const dataTable =\n",
              "            await google.colab.kernel.invokeFunction('convertToInteractive',\n",
              "                                                     [key], {});\n",
              "          if (!dataTable) return;\n",
              "\n",
              "          const docLinkHtml = 'Like what you see? Visit the ' +\n",
              "            '<a target=\"_blank\" href=https://colab.research.google.com/notebooks/data_table.ipynb>data table notebook</a>'\n",
              "            + ' to learn more about interactive tables.';\n",
              "          element.innerHTML = '';\n",
              "          dataTable['output_type'] = 'display_data';\n",
              "          await google.colab.output.renderOutput(dataTable, element);\n",
              "          const docLink = document.createElement('div');\n",
              "          docLink.innerHTML = docLinkHtml;\n",
              "          element.appendChild(docLink);\n",
              "        }\n",
              "      </script>\n",
              "    </div>\n",
              "  </div>\n",
              "  "
            ]
          },
          "metadata": {},
          "execution_count": 34
        }
      ]
    },
    {
      "cell_type": "code",
      "source": [
        "data.info()"
      ],
      "metadata": {
        "colab": {
          "base_uri": "https://localhost:8080/"
        },
        "id": "ev1TJOPTvpmM",
        "outputId": "084316fc-4e27-4e51-d1a3-5ee77e85a6b3"
      },
      "execution_count": null,
      "outputs": [
        {
          "output_type": "stream",
          "name": "stdout",
          "text": [
            "<class 'pandas.core.frame.DataFrame'>\n",
            "RangeIndex: 299 entries, 0 to 298\n",
            "Data columns (total 13 columns):\n",
            " #   Column                    Non-Null Count  Dtype  \n",
            "---  ------                    --------------  -----  \n",
            " 0   age                       299 non-null    float64\n",
            " 1   anaemia                   299 non-null    int64  \n",
            " 2   creatinine_phosphokinase  299 non-null    int64  \n",
            " 3   diabetes                  299 non-null    int64  \n",
            " 4   ejection_fraction         299 non-null    int64  \n",
            " 5   high_blood_pressure       299 non-null    int64  \n",
            " 6   platelets                 299 non-null    float64\n",
            " 7   serum_creatinine          299 non-null    float64\n",
            " 8   serum_sodium              299 non-null    int64  \n",
            " 9   sex                       299 non-null    int64  \n",
            " 10  smoking                   299 non-null    int64  \n",
            " 11  time                      299 non-null    int64  \n",
            " 12  DEATH_EVENT               299 non-null    int64  \n",
            "dtypes: float64(3), int64(10)\n",
            "memory usage: 30.5 KB\n"
          ]
        }
      ]
    },
    {
      "cell_type": "code",
      "source": [
        "def plot_box(data, cols, col_x = 'DEATH_EVENT'):\n",
        "  for col in cols:\n",
        "    sns.boxplot(col_x, col, data=data)\n",
        "    plt.xlabel(col_x)\n",
        "    plt.ylabel(col)\n",
        "    plt.show()\n",
        "num_cols = [ 'age', 'creatinine_phosphokinase',\n",
        "        'platelets','serum_creatinine',\n",
        "        'serum_sodium','time']\n",
        "plot_box(data, num_cols)"
      ],
      "metadata": {
        "colab": {
          "base_uri": "https://localhost:8080/",
          "height": 1000
        },
        "id": "HypaVlXZvslq",
        "outputId": "b35cde0e-4c29-40c1-ea5d-5100b9f4f260"
      },
      "execution_count": null,
      "outputs": [
        {
          "output_type": "stream",
          "name": "stderr",
          "text": [
            "/usr/local/lib/python3.7/dist-packages/seaborn/_decorators.py:43: FutureWarning: Pass the following variables as keyword args: x, y. From version 0.12, the only valid positional argument will be `data`, and passing other arguments without an explicit keyword will result in an error or misinterpretation.\n",
            "  FutureWarning\n"
          ]
        },
        {
          "output_type": "display_data",
          "data": {
            "text/plain": [
              "<Figure size 432x288 with 1 Axes>"
            ],
            "image/png": "[encoded data removed]"
          },
          "metadata": {
            "needs_background": "light"
          }
        },
        {
          "output_type": "stream",
          "name": "stderr",
          "text": [
            "/usr/local/lib/python3.7/dist-packages/seaborn/_decorators.py:43: FutureWarning: Pass the following variables as keyword args: x, y. From version 0.12, the only valid positional argument will be `data`, and passing other arguments without an explicit keyword will result in an error or misinterpretation.\n",
            "  FutureWarning\n"
          ]
        },
        {
          "output_type": "display_data",
          "data": {
            "text/plain": [
              "<Figure size 432x288 with 1 Axes>"
            ],
            "image/png": "[encoded data removed]"
          },
          "metadata": {
            "needs_background": "light"
          }
        },
        {
          "output_type": "stream",
          "name": "stderr",
          "text": [
            "/usr/local/lib/python3.7/dist-packages/seaborn/_decorators.py:43: FutureWarning: Pass the following variables as keyword args: x, y. From version 0.12, the only valid positional argument will be `data`, and passing other arguments without an explicit keyword will result in an error or misinterpretation.\n",
            "  FutureWarning\n"
          ]
        },
        {
          "output_type": "display_data",
          "data": {
            "text/plain": [
              "<Figure size 432x288 with 1 Axes>"
            ],
            "image/png": "[encoded data removed]"
          },
          "metadata": {
            "needs_background": "light"
          }
        },
        {
          "output_type": "stream",
          "name": "stderr",
          "text": [
            "/usr/local/lib/python3.7/dist-packages/seaborn/_decorators.py:43: FutureWarning: Pass the following variables as keyword args: x, y. From version 0.12, the only valid positional argument will be `data`, and passing other arguments without an explicit keyword will result in an error or misinterpretation.\n",
            "  FutureWarning\n"
          ]
        },
        {
          "output_type": "display_data",
          "data": {
            "text/plain": [
              "<Figure size 432x288 with 1 Axes>"
            ],
            "image/png": "[encoded data removed]"
          },
          "metadata": {
            "needs_background": "light"
          }
        },
        {
          "output_type": "stream",
          "name": "stderr",
          "text": [
            "/usr/local/lib/python3.7/dist-packages/seaborn/_decorators.py:43: FutureWarning: Pass the following variables as keyword args: x, y. From version 0.12, the only valid positional argument will be `data`, and passing other arguments without an explicit keyword will result in an error or misinterpretation.\n",
            "  FutureWarning\n"
          ]
        },
        {
          "output_type": "display_data",
          "data": {
            "text/plain": [
              "<Figure size 432x288 with 1 Axes>"
            ],
            "image/png": "[encoded data removed]"
          },
          "metadata": {
            "needs_background": "light"
          }
        },
        {
          "output_type": "stream",
          "name": "stderr",
          "text": [
            "/usr/local/lib/python3.7/dist-packages/seaborn/_decorators.py:43: FutureWarning: Pass the following variables as keyword args: x, y. From version 0.12, the only valid positional argument will be `data`, and passing other arguments without an explicit keyword will result in an error or misinterpretation.\n",
            "  FutureWarning\n"
          ]
        },
        {
          "output_type": "display_data",
          "data": {
            "text/plain": [
              "<Figure size 432x288 with 1 Axes>"
            ],
            "image/png": "[encoded data removed]"
          },
          "metadata": {
            "needs_background": "light"
          }
        }
      ]
    },
    {
      "cell_type": "code",
      "source": [
        "def count_plot(cols):\n",
        "  for col in cols:\n",
        "    sns.countplot(data=data,x = col,hue='DEATH_EVENT')\n",
        "    plt.show()\n",
        "num_cols = [ 'anaemia','diabetes', 'high_blood_pressure', 'sex', 'smoking']\n",
        "count_plot(num_cols)"
      ],
      "metadata": {
        "colab": {
          "base_uri": "https://localhost:8080/",
          "height": 1000
        },
        "id": "Qc2te2RKvxJJ",
        "outputId": "524fc9ad-41ef-4022-8600-03de84f9c178"
      },
      "execution_count": null,
      "outputs": [
        {
          "output_type": "display_data",
          "data": {
            "text/plain": [
              "<Figure size 432x288 with 1 Axes>"
            ],
            "image/png": "[encoded data removed]"
          },
          "metadata": {
            "needs_background": "light"
          }
        },
        {
          "output_type": "display_data",
          "data": {
            "text/plain": [
              "<Figure size 432x288 with 1 Axes>"
            ],
            "image/png": "[encoded data removed]"
          },
          "metadata": {
            "needs_background": "light"
          }
        },
        {
          "output_type": "display_data",
          "data": {
            "text/plain": [
              "<Figure size 432x288 with 1 Axes>"
            ],
            "image/png": "[encoded data removed]"
          },
          "metadata": {
            "needs_background": "light"
          }
        },
        {
          "output_type": "display_data",
          "data": {
            "text/plain": [
              "<Figure size 432x288 with 1 Axes>"
            ],
            "image/png": "[encoded data removed]"
          },
          "metadata": {
            "needs_background": "light"
          }
        },
        {
          "output_type": "display_data",
          "data": {
            "text/plain": [
              "<Figure size 432x288 with 1 Axes>"
            ],
            "image/png": "[encoded data removed]"
          },
          "metadata": {
            "needs_background": "light"
          }
        }
      ]
    },
    {
      "cell_type": "code",
      "source": [
        "feature =['age','anaemia','diabetes', 'high_blood_pressure', 'sex', 'smoking','serum_creatinine','serum_sodium']\n",
        "X=data[feature]\n",
        "y=data['DEATH_EVENT']"
      ],
      "metadata": {
        "id": "Ze-Chla4v1dw"
      },
      "execution_count": null,
      "outputs": []
    },
    {
      "cell_type": "code",
      "source": [
        "X_train, X_test, y_train, y_test = train_test_split(X, y, test_size=0.2,random_state=3)"
      ],
      "metadata": {
        "id": "VStyUt9Wv7PD"
      },
      "execution_count": null,
      "outputs": []
    },
    {
      "cell_type": "code",
      "source": [
        "from sklearn.tree import DecisionTreeClassifier\n",
        "from sklearn.model_selection import GridSearchCV\n",
        "param_grid = {'max_depth': np.arange(1, 4),\n",
        " 'criterion':['entropy','gini']}\n",
        "tree = GridSearchCV(DecisionTreeClassifier(), param_grid)\n",
        "tree.fit(X_train, y_train)\n",
        "tree.best_estimator_"
      ],
      "metadata": {
        "colab": {
          "base_uri": "https://localhost:8080/"
        },
        "id": "YTA8fumZv9KH",
        "outputId": "e98b12a6-c1d6-465c-d953-95cf25f63fe2"
      },
      "execution_count": null,
      "outputs": [
        {
          "output_type": "execute_result",
          "data": {
            "text/plain": [
              "DecisionTreeClassifier(criterion='entropy', max_depth=3)"
            ]
          },
          "metadata": {},
          "execution_count": 76
        }
      ]
    },
    {
      "cell_type": "code",
      "source": [
        "tree = DecisionTreeClassifier(max_depth=3)\n",
        "tree.fit(X_train, y_train)\n",
        "y_pred = tree.predict(X_test)\n",
        "from sklearn.metrics import accuracy_score\n",
        "print(accuracy_score(y_test, y_pred))"
      ],
      "metadata": {
        "colab": {
          "base_uri": "https://localhost:8080/"
        },
        "id": "A2cH4n5Dxki5",
        "outputId": "53a85abb-9b39-4cb3-ed6a-6b08d62f7f65"
      },
      "execution_count": null,
      "outputs": [
        {
          "output_type": "stream",
          "name": "stdout",
          "text": [
            "0.7\n"
          ]
        }
      ]
    },
    {
      "cell_type": "code",
      "source": [
        "from sklearn.metrics import confusion_matrix\n",
        "from sklearn.metrics import accuracy_score\n",
        "y_pred  = tree.predict(X_test)\n",
        "print(\"confusion matrix = \\n\",confusion_matrix(y_test, y_pred))\n",
        "X_train_prediction = tree.predict(X_train)\n",
        "training_data_accuray = accuracy_score(X_train_prediction,y_train)\n",
        "print('Accuracy on training data : ', round(training_data_accuray*100,2),\"%\")\n",
        "X_test_prediction = tree.predict(X_test)\n",
        "testing_data_accuray = accuracy_score(X_test_prediction,y_test)\n",
        "print('Accuracy on testing data : ', round(testing_data_accuray*100,2),\"%\")"
      ],
      "metadata": {
        "colab": {
          "base_uri": "https://localhost:8080/"
        },
        "id": "VB-31qKowDou",
        "outputId": "e8895fde-9537-4f52-e027-1ab4324d791d"
      },
      "execution_count": null,
      "outputs": [
        {
          "output_type": "stream",
          "name": "stdout",
          "text": [
            "confusion matrix = \n",
            " [[34  6]\n",
            " [12  8]]\n",
            "Accuracy on training data :  81.59 %\n",
            "Accuracy on testing data :  70.0 %\n"
          ]
        }
      ]
    },
    {
      "cell_type": "code",
      "source": [
        "from sklearn.tree import export_graphviz\n",
        "tree_dot = export_graphviz(\n",
        "tree,\n",
        "out_file=None,\n",
        "feature_names= feature,\n",
        "class_names='DEATH_EVENT',\n",
        "rounded=True,\n",
        "filled=True\n",
        ")\n",
        "print(tree_dot)"
      ],
      "metadata": {
        "colab": {
          "base_uri": "https://localhost:8080/"
        },
        "id": "CvAGOPvGwPlf",
        "outputId": "1bf0eda0-4ee0-4a81-a39d-f9cdc72718bb"
      },
      "execution_count": null,
      "outputs": [
        {
          "output_type": "stream",
          "name": "stdout",
          "text": [
            "digraph Tree {\n",
            "node [shape=box, style=\"filled, rounded\", color=\"black\", fontname=\"helvetica\"] ;\n",
            "edge [fontname=\"helvetica\"] ;\n",
            "0 [label=\"serum_creatinine <= 1.815\\ngini = 0.434\\nsamples = 239\\nvalue = [163, 76]\\nclass = D\", fillcolor=\"#f1bc95\"] ;\n",
            "1 [label=\"age <= 79.0\\ngini = 0.37\\nsamples = 204\\nvalue = [154, 50]\\nclass = D\", fillcolor=\"#edaa79\"] ;\n",
            "0 -> 1 [labeldistance=2.5, labelangle=45, headlabel=\"True\"] ;\n",
            "2 [label=\"serum_sodium <= 129.5\\ngini = 0.341\\nsamples = 193\\nvalue = [151, 42]\\nclass = D\", fillcolor=\"#eca470\"] ;\n",
            "1 -> 2 ;\n",
            "3 [label=\"gini = 0.408\\nsamples = 7\\nvalue = [2, 5]\\nclass = E\", fillcolor=\"#88c4ef\"] ;\n",
            "2 -> 3 ;\n",
            "4 [label=\"gini = 0.319\\nsamples = 186\\nvalue = [149, 37]\\nclass = D\", fillcolor=\"#eba06a\"] ;\n",
            "2 -> 4 ;\n",
            "5 [label=\"serum_creatinine <= 0.95\\ngini = 0.397\\nsamples = 11\\nvalue = [3, 8]\\nclass = E\", fillcolor=\"#83c2ef\"] ;\n",
            "1 -> 5 ;\n",
            "6 [label=\"gini = 0.0\\nsamples = 2\\nvalue = [2, 0]\\nclass = D\", fillcolor=\"#e58139\"] ;\n",
            "5 -> 6 ;\n",
            "7 [label=\"gini = 0.198\\nsamples = 9\\nvalue = [1, 8]\\nclass = E\", fillcolor=\"#52a9e8\"] ;\n",
            "5 -> 7 ;\n",
            "8 [label=\"serum_sodium <= 135.5\\ngini = 0.382\\nsamples = 35\\nvalue = [9, 26]\\nclass = E\", fillcolor=\"#7ebfee\"] ;\n",
            "0 -> 8 [labeldistance=2.5, labelangle=-45, headlabel=\"False\"] ;\n",
            "9 [label=\"age <= 45.0\\ngini = 0.252\\nsamples = 27\\nvalue = [4, 23]\\nclass = E\", fillcolor=\"#5baeea\"] ;\n",
            "8 -> 9 ;\n",
            "10 [label=\"gini = 0.0\\nsamples = 1\\nvalue = [1, 0]\\nclass = D\", fillcolor=\"#e58139\"] ;\n",
            "9 -> 10 ;\n",
            "11 [label=\"gini = 0.204\\nsamples = 26\\nvalue = [3, 23]\\nclass = E\", fillcolor=\"#53aae8\"] ;\n",
            "9 -> 11 ;\n",
            "12 [label=\"diabetes <= 0.5\\ngini = 0.469\\nsamples = 8\\nvalue = [5, 3]\\nclass = D\", fillcolor=\"#f5cdb0\"] ;\n",
            "8 -> 12 ;\n",
            "13 [label=\"gini = 0.0\\nsamples = 4\\nvalue = [4, 0]\\nclass = D\", fillcolor=\"#e58139\"] ;\n",
            "12 -> 13 ;\n",
            "14 [label=\"gini = 0.375\\nsamples = 4\\nvalue = [1, 3]\\nclass = E\", fillcolor=\"#7bbeee\"] ;\n",
            "12 -> 14 ;\n",
            "}\n"
          ]
        }
      ]
    },
    {
      "cell_type": "code",
      "source": [
        "from graphviz import Source\n",
        "from IPython.display import SVG\n",
        "from IPython.display import display\n",
        "graph = Source(export_graphviz(tree, out_file=None,\n",
        "                filled=True, rounded=True,\n",
        "                special_characters=True,feature_names = feature,class_names=['0','1']))\n",
        "display(SVG(graph.pipe(format='svg')))"
      ],
      "metadata": {
        "colab": {
          "base_uri": "https://localhost:8080/",
          "height": 599
        },
        "id": "Ty0VIVQixo8_",
        "outputId": "e64a148e-0342-4f48-ada6-372e4578a068"
      },
      "execution_count": null,
      "outputs": [
        {
          "output_type": "display_data",
          "data": {
            "text/plain": [
              "<IPython.core.display.SVG object>"
            ],
            "image/svg+xml": "<svg height=\"433pt\" viewBox=\"0.00 0.00 960.00 433.00\" width=\"960pt\" xmlns=\"http://www.w3.org/2000/svg\" xmlns:xlink=\"http://www.w3.org/1999/xlink\">\n<g class=\"graph\" id=\"graph0\" transform=\"scale(1 1) rotate(0) translate(4 429)\">\n<title>Tree</title>\n<polygon fill=\"#ffffff\" points=\"-4,4 -4,-429 956,-429 956,4 -4,4\" stroke=\"transparent\"/>\n<!-- 0 -->\n<g class=\"node\" id=\"node1\">\n<title>0</title>\n<path d=\"M540.5,-425C540.5,-425 384.5,-425 384.5,-425 378.5,-425 372.5,-419 372.5,-413 372.5,-413 372.5,-354 372.5,-354 372.5,-348 378.5,-342 384.5,-342 384.5,-342 540.5,-342 540.5,-342 546.5,-342 552.5,-348 552.5,-354 552.5,-354 552.5,-413 552.5,-413 552.5,-419 546.5,-425 540.5,-425\" fill=\"#f1bc95\" stroke=\"#000000\"/>\n<text fill=\"#000000\" font-family=\"Helvetica,sans-Serif\" font-size=\"14.00\" text-anchor=\"start\" x=\"380.5\" y=\"-409.8\">serum_creatinine ≤ 1.815</text>\n<text fill=\"#000000\" font-family=\"Helvetica,sans-Serif\" font-size=\"14.00\" text-anchor=\"start\" x=\"424.5\" y=\"-394.8\">gini = 0.434</text>\n<text fill=\"#000000\" font-family=\"Helvetica,sans-Serif\" font-size=\"14.00\" text-anchor=\"start\" x=\"414.5\" y=\"-379.8\">samples = 239</text>\n<text fill=\"#000000\" font-family=\"Helvetica,sans-Serif\" font-size=\"14.00\" text-anchor=\"start\" x=\"408.5\" y=\"-364.8\">value = [163, 76]</text>\n<text fill=\"#000000\" font-family=\"Helvetica,sans-Serif\" font-size=\"14.00\" text-anchor=\"start\" x=\"433.5\" y=\"-349.8\">class = 0</text>\n</g>\n<!-- 1 -->\n<g class=\"node\" id=\"node2\">\n<title>1</title>\n<path d=\"M423.5,-306C423.5,-306 323.5,-306 323.5,-306 317.5,-306 311.5,-300 311.5,-294 311.5,-294 311.5,-235 311.5,-235 311.5,-229 317.5,-223 323.5,-223 323.5,-223 423.5,-223 423.5,-223 429.5,-223 435.5,-229 435.5,-235 435.5,-235 435.5,-294 435.5,-294 435.5,-300 429.5,-306 423.5,-306\" fill=\"#edaa79\" stroke=\"#000000\"/>\n<text fill=\"#000000\" font-family=\"Helvetica,sans-Serif\" font-size=\"14.00\" text-anchor=\"start\" x=\"339\" y=\"-290.8\">age ≤ 79.0</text>\n<text fill=\"#000000\" font-family=\"Helvetica,sans-Serif\" font-size=\"14.00\" text-anchor=\"start\" x=\"340\" y=\"-275.8\">gini = 0.37</text>\n<text fill=\"#000000\" font-family=\"Helvetica,sans-Serif\" font-size=\"14.00\" text-anchor=\"start\" x=\"325.5\" y=\"-260.8\">samples = 204</text>\n<text fill=\"#000000\" font-family=\"Helvetica,sans-Serif\" font-size=\"14.00\" text-anchor=\"start\" x=\"319.5\" y=\"-245.8\">value = [154, 50]</text>\n<text fill=\"#000000\" font-family=\"Helvetica,sans-Serif\" font-size=\"14.00\" text-anchor=\"start\" x=\"344.5\" y=\"-230.8\">class = 0</text>\n</g>\n<!-- 0&#45;&gt;1 -->\n<g class=\"edge\" id=\"edge1\">\n<title>0-&gt;1</title>\n<path d=\"M431.3721,-341.8796C424.771,-333.0534 417.7371,-323.6485 410.9298,-314.5466\" fill=\"none\" stroke=\"#000000\"/>\n<polygon fill=\"#000000\" points=\"413.5528,-312.2099 404.7607,-306.2981 407.9472,-316.4024 413.5528,-312.2099\" stroke=\"#000000\"/>\n<text fill=\"#000000\" font-family=\"Helvetica,sans-Serif\" font-size=\"14.00\" text-anchor=\"middle\" x=\"401.1919\" y=\"-327.342\">True</text>\n</g>\n<!-- 8 -->\n<g class=\"node\" id=\"node9\">\n<title>8</title>\n<path d=\"M671.5,-306C671.5,-306 531.5,-306 531.5,-306 525.5,-306 519.5,-300 519.5,-294 519.5,-294 519.5,-235 519.5,-235 519.5,-229 525.5,-223 531.5,-223 531.5,-223 671.5,-223 671.5,-223 677.5,-223 683.5,-229 683.5,-235 683.5,-235 683.5,-294 683.5,-294 683.5,-300 677.5,-306 671.5,-306\" fill=\"#7ebfee\" stroke=\"#000000\"/>\n<text fill=\"#000000\" font-family=\"Helvetica,sans-Serif\" font-size=\"14.00\" text-anchor=\"start\" x=\"527.5\" y=\"-290.8\">serum_sodium ≤ 135.5</text>\n<text fill=\"#000000\" font-family=\"Helvetica,sans-Serif\" font-size=\"14.00\" text-anchor=\"start\" x=\"563.5\" y=\"-275.8\">gini = 0.382</text>\n<text fill=\"#000000\" font-family=\"Helvetica,sans-Serif\" font-size=\"14.00\" text-anchor=\"start\" x=\"557.5\" y=\"-260.8\">samples = 35</text>\n<text fill=\"#000000\" font-family=\"Helvetica,sans-Serif\" font-size=\"14.00\" text-anchor=\"start\" x=\"556\" y=\"-245.8\">value = [9, 26]</text>\n<text fill=\"#000000\" font-family=\"Helvetica,sans-Serif\" font-size=\"14.00\" text-anchor=\"start\" x=\"572.5\" y=\"-230.8\">class = 1</text>\n</g>\n<!-- 0&#45;&gt;8 -->\n<g class=\"edge\" id=\"edge8\">\n<title>0-&gt;8</title>\n<path d=\"M511.1155,-341.8796C522.0562,-332.513 533.7582,-322.4948 544.9908,-312.8784\" fill=\"none\" stroke=\"#000000\"/>\n<polygon fill=\"#000000\" points=\"547.3568,-315.4603 552.677,-306.2981 542.8044,-310.1428 547.3568,-315.4603\" stroke=\"#000000\"/>\n<text fill=\"#000000\" font-family=\"Helvetica,sans-Serif\" font-size=\"14.00\" text-anchor=\"middle\" x=\"550.7449\" y=\"-327.5233\">False</text>\n</g>\n<!-- 2 -->\n<g class=\"node\" id=\"node3\">\n<title>2</title>\n<path d=\"M249.5,-187C249.5,-187 109.5,-187 109.5,-187 103.5,-187 97.5,-181 97.5,-175 97.5,-175 97.5,-116 97.5,-116 97.5,-110 103.5,-104 109.5,-104 109.5,-104 249.5,-104 249.5,-104 255.5,-104 261.5,-110 261.5,-116 261.5,-116 261.5,-175 261.5,-175 261.5,-181 255.5,-187 249.5,-187\" fill=\"#eca470\" stroke=\"#000000\"/>\n<text fill=\"#000000\" font-family=\"Helvetica,sans-Serif\" font-size=\"14.00\" text-anchor=\"start\" x=\"105.5\" y=\"-171.8\">serum_sodium ≤ 129.5</text>\n<text fill=\"#000000\" font-family=\"Helvetica,sans-Serif\" font-size=\"14.00\" text-anchor=\"start\" x=\"141.5\" y=\"-156.8\">gini = 0.341</text>\n<text fill=\"#000000\" font-family=\"Helvetica,sans-Serif\" font-size=\"14.00\" text-anchor=\"start\" x=\"131.5\" y=\"-141.8\">samples = 193</text>\n<text fill=\"#000000\" font-family=\"Helvetica,sans-Serif\" font-size=\"14.00\" text-anchor=\"start\" x=\"125.5\" y=\"-126.8\">value = [151, 42]</text>\n<text fill=\"#000000\" font-family=\"Helvetica,sans-Serif\" font-size=\"14.00\" text-anchor=\"start\" x=\"150.5\" y=\"-111.8\">class = 0</text>\n</g>\n<!-- 1&#45;&gt;2 -->\n<g class=\"edge\" id=\"edge2\">\n<title>1-&gt;2</title>\n<path d=\"M311.3167,-226.3566C293.7919,-215.6069 274.519,-203.7848 256.2492,-192.5781\" fill=\"none\" stroke=\"#000000\"/>\n<polygon fill=\"#000000\" points=\"257.7273,-189.3788 247.3731,-187.1335 254.0671,-195.3457 257.7273,-189.3788\" stroke=\"#000000\"/>\n</g>\n<!-- 5 -->\n<g class=\"node\" id=\"node6\">\n<title>5</title>\n<path d=\"M447.5,-187C447.5,-187 299.5,-187 299.5,-187 293.5,-187 287.5,-181 287.5,-175 287.5,-175 287.5,-116 287.5,-116 287.5,-110 293.5,-104 299.5,-104 299.5,-104 447.5,-104 447.5,-104 453.5,-104 459.5,-110 459.5,-116 459.5,-116 459.5,-175 459.5,-175 459.5,-181 453.5,-187 447.5,-187\" fill=\"#83c2ef\" stroke=\"#000000\"/>\n<text fill=\"#000000\" font-family=\"Helvetica,sans-Serif\" font-size=\"14.00\" text-anchor=\"start\" x=\"295.5\" y=\"-171.8\">serum_creatinine ≤ 0.95</text>\n<text fill=\"#000000\" font-family=\"Helvetica,sans-Serif\" font-size=\"14.00\" text-anchor=\"start\" x=\"335.5\" y=\"-156.8\">gini = 0.397</text>\n<text fill=\"#000000\" font-family=\"Helvetica,sans-Serif\" font-size=\"14.00\" text-anchor=\"start\" x=\"329.5\" y=\"-141.8\">samples = 11</text>\n<text fill=\"#000000\" font-family=\"Helvetica,sans-Serif\" font-size=\"14.00\" text-anchor=\"start\" x=\"332\" y=\"-126.8\">value = [3, 8]</text>\n<text fill=\"#000000\" font-family=\"Helvetica,sans-Serif\" font-size=\"14.00\" text-anchor=\"start\" x=\"344.5\" y=\"-111.8\">class = 1</text>\n</g>\n<!-- 1&#45;&gt;5 -->\n<g class=\"edge\" id=\"edge5\">\n<title>1-&gt;5</title>\n<path d=\"M373.5,-222.8796C373.5,-214.6838 373.5,-205.9891 373.5,-197.5013\" fill=\"none\" stroke=\"#000000\"/>\n<polygon fill=\"#000000\" points=\"377.0001,-197.298 373.5,-187.2981 370.0001,-197.2981 377.0001,-197.298\" stroke=\"#000000\"/>\n</g>\n<!-- 3 -->\n<g class=\"node\" id=\"node4\">\n<title>3</title>\n<path d=\"M87,-68C87,-68 12,-68 12,-68 6,-68 0,-62 0,-56 0,-56 0,-12 0,-12 0,-6 6,0 12,0 12,0 87,0 87,0 93,0 99,-6 99,-12 99,-12 99,-56 99,-56 99,-62 93,-68 87,-68\" fill=\"#88c4ef\" stroke=\"#000000\"/>\n<text fill=\"#000000\" font-family=\"Helvetica,sans-Serif\" font-size=\"14.00\" text-anchor=\"start\" x=\"11.5\" y=\"-52.8\">gini = 0.408</text>\n<text fill=\"#000000\" font-family=\"Helvetica,sans-Serif\" font-size=\"14.00\" text-anchor=\"start\" x=\"10\" y=\"-37.8\">samples = 7</text>\n<text fill=\"#000000\" font-family=\"Helvetica,sans-Serif\" font-size=\"14.00\" text-anchor=\"start\" x=\"8\" y=\"-22.8\">value = [2, 5]</text>\n<text fill=\"#000000\" font-family=\"Helvetica,sans-Serif\" font-size=\"14.00\" text-anchor=\"start\" x=\"20.5\" y=\"-7.8\">class = 1</text>\n</g>\n<!-- 2&#45;&gt;3 -->\n<g class=\"edge\" id=\"edge3\">\n<title>2-&gt;3</title>\n<path d=\"M131.0928,-103.9815C120.0558,-94.5151 108.3347,-84.462 97.3223,-75.0168\" fill=\"none\" stroke=\"#000000\"/>\n<polygon fill=\"#000000\" points=\"99.3178,-72.1173 89.4487,-68.2637 94.7606,-77.4307 99.3178,-72.1173\" stroke=\"#000000\"/>\n</g>\n<!-- 4 -->\n<g class=\"node\" id=\"node5\">\n<title>4</title>\n<path d=\"M229.5,-68C229.5,-68 129.5,-68 129.5,-68 123.5,-68 117.5,-62 117.5,-56 117.5,-56 117.5,-12 117.5,-12 117.5,-6 123.5,0 129.5,0 129.5,0 229.5,0 229.5,0 235.5,0 241.5,-6 241.5,-12 241.5,-12 241.5,-56 241.5,-56 241.5,-62 235.5,-68 229.5,-68\" fill=\"#eba06a\" stroke=\"#000000\"/>\n<text fill=\"#000000\" font-family=\"Helvetica,sans-Serif\" font-size=\"14.00\" text-anchor=\"start\" x=\"141.5\" y=\"-52.8\">gini = 0.319</text>\n<text fill=\"#000000\" font-family=\"Helvetica,sans-Serif\" font-size=\"14.00\" text-anchor=\"start\" x=\"131.5\" y=\"-37.8\">samples = 186</text>\n<text fill=\"#000000\" font-family=\"Helvetica,sans-Serif\" font-size=\"14.00\" text-anchor=\"start\" x=\"125.5\" y=\"-22.8\">value = [149, 37]</text>\n<text fill=\"#000000\" font-family=\"Helvetica,sans-Serif\" font-size=\"14.00\" text-anchor=\"start\" x=\"150.5\" y=\"-7.8\">class = 0</text>\n</g>\n<!-- 2&#45;&gt;4 -->\n<g class=\"edge\" id=\"edge4\">\n<title>2-&gt;4</title>\n<path d=\"M179.5,-103.9815C179.5,-95.618 179.5,-86.7965 179.5,-78.3409\" fill=\"none\" stroke=\"#000000\"/>\n<polygon fill=\"#000000\" points=\"183.0001,-78.2636 179.5,-68.2637 176.0001,-78.2637 183.0001,-78.2636\" stroke=\"#000000\"/>\n</g>\n<!-- 6 -->\n<g class=\"node\" id=\"node7\">\n<title>6</title>\n<path d=\"M347,-68C347,-68 272,-68 272,-68 266,-68 260,-62 260,-56 260,-56 260,-12 260,-12 260,-6 266,0 272,0 272,0 347,0 347,0 353,0 359,-6 359,-12 359,-12 359,-56 359,-56 359,-62 353,-68 347,-68\" fill=\"#e58139\" stroke=\"#000000\"/>\n<text fill=\"#000000\" font-family=\"Helvetica,sans-Serif\" font-size=\"14.00\" text-anchor=\"start\" x=\"280\" y=\"-52.8\">gini = 0.0</text>\n<text fill=\"#000000\" font-family=\"Helvetica,sans-Serif\" font-size=\"14.00\" text-anchor=\"start\" x=\"270\" y=\"-37.8\">samples = 2</text>\n<text fill=\"#000000\" font-family=\"Helvetica,sans-Serif\" font-size=\"14.00\" text-anchor=\"start\" x=\"268\" y=\"-22.8\">value = [2, 0]</text>\n<text fill=\"#000000\" font-family=\"Helvetica,sans-Serif\" font-size=\"14.00\" text-anchor=\"start\" x=\"280.5\" y=\"-7.8\">class = 0</text>\n</g>\n<!-- 5&#45;&gt;6 -->\n<g class=\"edge\" id=\"edge6\">\n<title>5-&gt;6</title>\n<path d=\"M349.6688,-103.9815C344.6044,-95.1585 339.2475,-85.8258 334.1532,-76.9506\" fill=\"none\" stroke=\"#000000\"/>\n<polygon fill=\"#000000\" points=\"337.1807,-75.1942 329.167,-68.2637 331.1097,-78.6789 337.1807,-75.1942\" stroke=\"#000000\"/>\n</g>\n<!-- 7 -->\n<g class=\"node\" id=\"node8\">\n<title>7</title>\n<path d=\"M464,-68C464,-68 389,-68 389,-68 383,-68 377,-62 377,-56 377,-56 377,-12 377,-12 377,-6 383,0 389,0 389,0 464,0 464,0 470,0 476,-6 476,-12 476,-12 476,-56 476,-56 476,-62 470,-68 464,-68\" fill=\"#52a9e8\" stroke=\"#000000\"/>\n<text fill=\"#000000\" font-family=\"Helvetica,sans-Serif\" font-size=\"14.00\" text-anchor=\"start\" x=\"388.5\" y=\"-52.8\">gini = 0.198</text>\n<text fill=\"#000000\" font-family=\"Helvetica,sans-Serif\" font-size=\"14.00\" text-anchor=\"start\" x=\"387\" y=\"-37.8\">samples = 9</text>\n<text fill=\"#000000\" font-family=\"Helvetica,sans-Serif\" font-size=\"14.00\" text-anchor=\"start\" x=\"385\" y=\"-22.8\">value = [1, 8]</text>\n<text fill=\"#000000\" font-family=\"Helvetica,sans-Serif\" font-size=\"14.00\" text-anchor=\"start\" x=\"397.5\" y=\"-7.8\">class = 1</text>\n</g>\n<!-- 5&#45;&gt;7 -->\n<g class=\"edge\" id=\"edge7\">\n<title>5-&gt;7</title>\n<path d=\"M393.2352,-103.9815C397.3418,-95.3423 401.6806,-86.2144 405.8201,-77.5059\" fill=\"none\" stroke=\"#000000\"/>\n<polygon fill=\"#000000\" points=\"409.0812,-78.7979 410.2132,-68.2637 402.7591,-75.7927 409.0812,-78.7979\" stroke=\"#000000\"/>\n</g>\n<!-- 9 -->\n<g class=\"node\" id=\"node10\">\n<title>9</title>\n<path d=\"M643,-187C643,-187 560,-187 560,-187 554,-187 548,-181 548,-175 548,-175 548,-116 548,-116 548,-110 554,-104 560,-104 560,-104 643,-104 643,-104 649,-104 655,-110 655,-116 655,-116 655,-175 655,-175 655,-181 649,-187 643,-187\" fill=\"#5baeea\" stroke=\"#000000\"/>\n<text fill=\"#000000\" font-family=\"Helvetica,sans-Serif\" font-size=\"14.00\" text-anchor=\"start\" x=\"567\" y=\"-171.8\">age ≤ 45.0</text>\n<text fill=\"#000000\" font-family=\"Helvetica,sans-Serif\" font-size=\"14.00\" text-anchor=\"start\" x=\"563.5\" y=\"-156.8\">gini = 0.252</text>\n<text fill=\"#000000\" font-family=\"Helvetica,sans-Serif\" font-size=\"14.00\" text-anchor=\"start\" x=\"557.5\" y=\"-141.8\">samples = 27</text>\n<text fill=\"#000000\" font-family=\"Helvetica,sans-Serif\" font-size=\"14.00\" text-anchor=\"start\" x=\"556\" y=\"-126.8\">value = [4, 23]</text>\n<text fill=\"#000000\" font-family=\"Helvetica,sans-Serif\" font-size=\"14.00\" text-anchor=\"start\" x=\"572.5\" y=\"-111.8\">class = 1</text>\n</g>\n<!-- 8&#45;&gt;9 -->\n<g class=\"edge\" id=\"edge9\">\n<title>8-&gt;9</title>\n<path d=\"M601.5,-222.8796C601.5,-214.6838 601.5,-205.9891 601.5,-197.5013\" fill=\"none\" stroke=\"#000000\"/>\n<polygon fill=\"#000000\" points=\"605.0001,-197.298 601.5,-187.2981 598.0001,-197.2981 605.0001,-197.298\" stroke=\"#000000\"/>\n</g>\n<!-- 12 -->\n<g class=\"node\" id=\"node13\">\n<title>12</title>\n<path d=\"M827,-187C827,-187 744,-187 744,-187 738,-187 732,-181 732,-175 732,-175 732,-116 732,-116 732,-110 738,-104 744,-104 744,-104 827,-104 827,-104 833,-104 839,-110 839,-116 839,-116 839,-175 839,-175 839,-181 833,-187 827,-187\" fill=\"#f5cdb0\" stroke=\"#000000\"/>\n<text fill=\"#000000\" font-family=\"Helvetica,sans-Serif\" font-size=\"14.00\" text-anchor=\"start\" x=\"740\" y=\"-171.8\">diabetes ≤ 0.5</text>\n<text fill=\"#000000\" font-family=\"Helvetica,sans-Serif\" font-size=\"14.00\" text-anchor=\"start\" x=\"747.5\" y=\"-156.8\">gini = 0.469</text>\n<text fill=\"#000000\" font-family=\"Helvetica,sans-Serif\" font-size=\"14.00\" text-anchor=\"start\" x=\"746\" y=\"-141.8\">samples = 8</text>\n<text fill=\"#000000\" font-family=\"Helvetica,sans-Serif\" font-size=\"14.00\" text-anchor=\"start\" x=\"744\" y=\"-126.8\">value = [5, 3]</text>\n<text fill=\"#000000\" font-family=\"Helvetica,sans-Serif\" font-size=\"14.00\" text-anchor=\"start\" x=\"756.5\" y=\"-111.8\">class = 0</text>\n</g>\n<!-- 8&#45;&gt;12 -->\n<g class=\"edge\" id=\"edge12\">\n<title>8-&gt;12</title>\n<path d=\"M665.8543,-222.8796C684.4629,-210.8446 704.7351,-197.7338 723.2153,-185.782\" fill=\"none\" stroke=\"#000000\"/>\n<polygon fill=\"#000000\" points=\"725.3506,-188.5692 731.8468,-180.1996 721.5492,-182.6913 725.3506,-188.5692\" stroke=\"#000000\"/>\n</g>\n<!-- 10 -->\n<g class=\"node\" id=\"node11\">\n<title>10</title>\n<path d=\"M581,-68C581,-68 506,-68 506,-68 500,-68 494,-62 494,-56 494,-56 494,-12 494,-12 494,-6 500,0 506,0 506,0 581,0 581,0 587,0 593,-6 593,-12 593,-12 593,-56 593,-56 593,-62 587,-68 581,-68\" fill=\"#e58139\" stroke=\"#000000\"/>\n<text fill=\"#000000\" font-family=\"Helvetica,sans-Serif\" font-size=\"14.00\" text-anchor=\"start\" x=\"514\" y=\"-52.8\">gini = 0.0</text>\n<text fill=\"#000000\" font-family=\"Helvetica,sans-Serif\" font-size=\"14.00\" text-anchor=\"start\" x=\"504\" y=\"-37.8\">samples = 1</text>\n<text fill=\"#000000\" font-family=\"Helvetica,sans-Serif\" font-size=\"14.00\" text-anchor=\"start\" x=\"502\" y=\"-22.8\">value = [1, 0]</text>\n<text fill=\"#000000\" font-family=\"Helvetica,sans-Serif\" font-size=\"14.00\" text-anchor=\"start\" x=\"514.5\" y=\"-7.8\">class = 0</text>\n</g>\n<!-- 9&#45;&gt;10 -->\n<g class=\"edge\" id=\"edge10\">\n<title>9-&gt;10</title>\n<path d=\"M579.9029,-103.9815C575.3612,-95.2504 570.5598,-86.0202 565.9863,-77.2281\" fill=\"none\" stroke=\"#000000\"/>\n<polygon fill=\"#000000\" points=\"569.0431,-75.52 561.3233,-68.2637 562.8331,-78.7504 569.0431,-75.52\" stroke=\"#000000\"/>\n</g>\n<!-- 11 -->\n<g class=\"node\" id=\"node12\">\n<title>11</title>\n<path d=\"M706,-68C706,-68 623,-68 623,-68 617,-68 611,-62 611,-56 611,-56 611,-12 611,-12 611,-6 617,0 623,0 623,0 706,0 706,0 712,0 718,-6 718,-12 718,-12 718,-56 718,-56 718,-62 712,-68 706,-68\" fill=\"#53aae8\" stroke=\"#000000\"/>\n<text fill=\"#000000\" font-family=\"Helvetica,sans-Serif\" font-size=\"14.00\" text-anchor=\"start\" x=\"626.5\" y=\"-52.8\">gini = 0.204</text>\n<text fill=\"#000000\" font-family=\"Helvetica,sans-Serif\" font-size=\"14.00\" text-anchor=\"start\" x=\"620.5\" y=\"-37.8\">samples = 26</text>\n<text fill=\"#000000\" font-family=\"Helvetica,sans-Serif\" font-size=\"14.00\" text-anchor=\"start\" x=\"619\" y=\"-22.8\">value = [3, 23]</text>\n<text fill=\"#000000\" font-family=\"Helvetica,sans-Serif\" font-size=\"14.00\" text-anchor=\"start\" x=\"635.5\" y=\"-7.8\">class = 1</text>\n</g>\n<!-- 9&#45;&gt;11 -->\n<g class=\"edge\" id=\"edge11\">\n<title>9-&gt;11</title>\n<path d=\"M624.9589,-103.9815C629.8922,-95.2504 635.1074,-86.0202 640.0752,-77.2281\" fill=\"none\" stroke=\"#000000\"/>\n<polygon fill=\"#000000\" points=\"643.2681,-78.6918 645.1403,-68.2637 637.1737,-75.2483 643.2681,-78.6918\" stroke=\"#000000\"/>\n</g>\n<!-- 13 -->\n<g class=\"node\" id=\"node14\">\n<title>13</title>\n<path d=\"M823,-68C823,-68 748,-68 748,-68 742,-68 736,-62 736,-56 736,-56 736,-12 736,-12 736,-6 742,0 748,0 748,0 823,0 823,0 829,0 835,-6 835,-12 835,-12 835,-56 835,-56 835,-62 829,-68 823,-68\" fill=\"#e58139\" stroke=\"#000000\"/>\n<text fill=\"#000000\" font-family=\"Helvetica,sans-Serif\" font-size=\"14.00\" text-anchor=\"start\" x=\"756\" y=\"-52.8\">gini = 0.0</text>\n<text fill=\"#000000\" font-family=\"Helvetica,sans-Serif\" font-size=\"14.00\" text-anchor=\"start\" x=\"746\" y=\"-37.8\">samples = 4</text>\n<text fill=\"#000000\" font-family=\"Helvetica,sans-Serif\" font-size=\"14.00\" text-anchor=\"start\" x=\"744\" y=\"-22.8\">value = [4, 0]</text>\n<text fill=\"#000000\" font-family=\"Helvetica,sans-Serif\" font-size=\"14.00\" text-anchor=\"start\" x=\"756.5\" y=\"-7.8\">class = 0</text>\n</g>\n<!-- 12&#45;&gt;13 -->\n<g class=\"edge\" id=\"edge13\">\n<title>12-&gt;13</title>\n<path d=\"M785.5,-103.9815C785.5,-95.618 785.5,-86.7965 785.5,-78.3409\" fill=\"none\" stroke=\"#000000\"/>\n<polygon fill=\"#000000\" points=\"789.0001,-78.2636 785.5,-68.2637 782.0001,-78.2637 789.0001,-78.2636\" stroke=\"#000000\"/>\n</g>\n<!-- 14 -->\n<g class=\"node\" id=\"node15\">\n<title>14</title>\n<path d=\"M940,-68C940,-68 865,-68 865,-68 859,-68 853,-62 853,-56 853,-56 853,-12 853,-12 853,-6 859,0 865,0 865,0 940,0 940,0 946,0 952,-6 952,-12 952,-12 952,-56 952,-56 952,-62 946,-68 940,-68\" fill=\"#7bbeee\" stroke=\"#000000\"/>\n<text fill=\"#000000\" font-family=\"Helvetica,sans-Serif\" font-size=\"14.00\" text-anchor=\"start\" x=\"864.5\" y=\"-52.8\">gini = 0.375</text>\n<text fill=\"#000000\" font-family=\"Helvetica,sans-Serif\" font-size=\"14.00\" text-anchor=\"start\" x=\"863\" y=\"-37.8\">samples = 4</text>\n<text fill=\"#000000\" font-family=\"Helvetica,sans-Serif\" font-size=\"14.00\" text-anchor=\"start\" x=\"861\" y=\"-22.8\">value = [1, 3]</text>\n<text fill=\"#000000\" font-family=\"Helvetica,sans-Serif\" font-size=\"14.00\" text-anchor=\"start\" x=\"873.5\" y=\"-7.8\">class = 1</text>\n</g>\n<!-- 12&#45;&gt;14 -->\n<g class=\"edge\" id=\"edge14\">\n<title>12-&gt;14</title>\n<path d=\"M829.0665,-103.9815C838.9034,-94.607 849.344,-84.6572 859.1711,-75.2921\" fill=\"none\" stroke=\"#000000\"/>\n<polygon fill=\"#000000\" points=\"861.7216,-77.6963 866.5462,-68.2637 856.8924,-72.6289 861.7216,-77.6963\" stroke=\"#000000\"/>\n</g>\n</g>\n</svg>"
          },
          "metadata": {}
        }
      ]
    },
    {
      "cell_type": "code",
      "source": [
        "scale = StandardScaler()\n",
        "X = scale.fit_transform(X)"
      ],
      "metadata": {
        "id": "4EEMa4WOxw2H"
      },
      "execution_count": null,
      "outputs": []
    },
    {
      "cell_type": "code",
      "source": [
        "X_train, X_test, y_train, y_test = train_test_split(X, y, test_size=0.2,random_state=10)"
      ],
      "metadata": {
        "id": "ZmQJwFylx4vn"
      },
      "execution_count": null,
      "outputs": []
    },
    {
      "cell_type": "code",
      "source": [
        "from sklearn import svm\n",
        "clf = svm.SVC(kernel=\"linear\")\n",
        "clf.fit(X_train,y_train)"
      ],
      "metadata": {
        "colab": {
          "base_uri": "https://localhost:8080/"
        },
        "id": "W7oyRD8wx8iz",
        "outputId": "1a07f838-6165-4a1a-bc3f-e242efbec047"
      },
      "execution_count": null,
      "outputs": [
        {
          "output_type": "execute_result",
          "data": {
            "text/plain": [
              "SVC(kernel='linear')"
            ]
          },
          "metadata": {},
          "execution_count": 82
        }
      ]
    },
    {
      "cell_type": "code",
      "source": [
        "y_pred  = clf.predict(X_test)\n",
        "print(\"confusion matrix = \\n\",confusion_matrix(y_test, y_pred))\n",
        "X_train_prediction = clf.predict(X_train)\n",
        "training_data_accuray = accuracy_score(X_train_prediction,y_train)\n",
        "print('Accuracy on training data : ', round(training_data_accuray*100,2),\"%\")\n",
        "X_test_prediction = clf.predict(X_test)\n",
        "testing_data_accuray = accuracy_score(X_test_prediction,y_test)\n",
        "print('Accuracy on testing data : ', round(testing_data_accuray*100,2),\"%\")"
      ],
      "metadata": {
        "colab": {
          "base_uri": "https://localhost:8080/"
        },
        "id": "d4ySSBWSx_YE",
        "outputId": "72320544-9acb-43a7-8aa0-ef88c33b59c6"
      },
      "execution_count": null,
      "outputs": [
        {
          "output_type": "stream",
          "name": "stdout",
          "text": [
            "confusion matrix = \n",
            " [[35  8]\n",
            " [ 9  8]]\n",
            "Accuracy on training data :  74.9 %\n",
            "Accuracy on testing data :  71.67 %\n"
          ]
        }
      ]
    }
  ]
}